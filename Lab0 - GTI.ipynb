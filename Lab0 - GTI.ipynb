{
 "cells": [
  {
   "cell_type": "markdown",
   "metadata": {},
   "source": [
    "## Introduction\n",
    "\n",
    "L'objectif de ce laboratoire est de vous familiariser avec Python et son environment. Il est important de suivre les étapes de ce cours et de pratiquer. Il est également important de lire la documentation offciel de python."
   ]
  },
  {
   "cell_type": "markdown",
   "metadata": {},
   "source": [
    "## Les basiques de Python\n",
    "Dans ce laboratoire, nous allons voir les basiques de Python, mais ce laboratoire n'est pas exhausive, il est fortement conseillé d'aller sur la documentation de python pour avoir plus information : https://docs.python.org/2/index.html\n",
    "\n",
    "### Les variables\n",
    "\n",
    "Une variable en python peut être assignée nimporte quelle type de valeur"
   ]
  },
  {
   "cell_type": "code",
   "execution_count": 1,
   "metadata": {
    "collapsed": true
   },
   "outputs": [],
   "source": [
    "a = 2 # a est de type int \n",
    "b = \"astring\" # b est de type string\n",
    "a = \"Two\" # a est maintenant de type string"
   ]
  },
  {
   "cell_type": "markdown",
   "metadata": {},
   "source": [
    "### La fonction print\n",
    "La fonction print de Python peut afficher le contenu de nimporte quelle valeur et de nimporte quelle variable"
   ]
  },
  {
   "cell_type": "code",
   "execution_count": 2,
   "metadata": {},
   "outputs": [
    {
     "name": "stdout",
     "output_type": "stream",
     "text": [
      "1\n",
      "astring\n",
      "One\n",
      "1 is One\n"
     ]
    }
   ],
   "source": [
    "a = 1\n",
    "c = 1\n",
    "print(a)\n",
    "b = \"astring\"\n",
    "print(b)\n",
    "a = 'One' #Les quotes simples sont la même chose que les doubles quotes\n",
    "print(a)\n",
    "print(\"{} is {}\".format(c, a)) #Print utilisant les format"
   ]
  },
  {
   "cell_type": "markdown",
   "metadata": {},
   "source": [
    "### Les structures de Python\n",
    "\n",
    "Python supporte plusieurs types type de structure : Tuple, List, Dictionnary....\n",
    "Tres important, en Python, les indexes commencent toujours à 0.\n",
    "\n",
    "Visiter https://docs.python.org/2/tutorial/datastructures.html \n",
    "\n",
    "#### Les lists\n",
    "Les lists en Python est une structure de donnee qui permet de stocker plusieurs valeurs de different types dans une seule variable"
   ]
  },
  {
   "cell_type": "code",
   "execution_count": 3,
   "metadata": {},
   "outputs": [
    {
     "name": "stdout",
     "output_type": "stream",
     "text": [
      "[]\n",
      "[1, 2, 3, 4, 5, 6]\n",
      "[1, 2, 3, 4, 5, 6, 7]\n",
      "7\n"
     ]
    }
   ],
   "source": [
    "l = []\n",
    "print(l)\n",
    "l = [1,2,3,4,5,6]\n",
    "print(l)\n",
    "l.append(7) # Concatener 7 à la fin de la liste\n",
    "print(l)\n",
    "l1 = [1, \"1\", 2, \"2\"]\n",
    "# pour avoir la taille du list, on peut utiliser len\n",
    "print(len(l))"
   ]
  },
  {
   "cell_type": "markdown",
   "metadata": {},
   "source": [
    "#### Les tuples\n",
    "Les tuples est une structure de donnee similaire aux lists. Contrairement aux lists, les tuples sont immutables."
   ]
  },
  {
   "cell_type": "code",
   "execution_count": 4,
   "metadata": {},
   "outputs": [
    {
     "name": "stdout",
     "output_type": "stream",
     "text": [
      "(1, 2, 3)\n",
      "(1, 'One', 2, 'Two')\n",
      "4\n"
     ]
    },
    {
     "ename": "TypeError",
     "evalue": "'tuple' object does not support item assignment",
     "output_type": "error",
     "traceback": [
      "\u001b[0;31m---------------------------------------------------------------------------\u001b[0m",
      "\u001b[0;31mTypeError\u001b[0m                                 Traceback (most recent call last)",
      "\u001b[0;32m<ipython-input-4-b37a964fda62>\u001b[0m in \u001b[0;36m<module>\u001b[0;34m()\u001b[0m\n\u001b[1;32m      5\u001b[0m \u001b[0;31m# pour avoir la taille d'un tuple, on peut utiliser aussi len\u001b[0m\u001b[0;34m\u001b[0m\u001b[0;34m\u001b[0m\u001b[0m\n\u001b[1;32m      6\u001b[0m \u001b[0;32mprint\u001b[0m\u001b[0;34m(\u001b[0m\u001b[0mlen\u001b[0m\u001b[0;34m(\u001b[0m\u001b[0mt1\u001b[0m\u001b[0;34m)\u001b[0m\u001b[0;34m)\u001b[0m\u001b[0;34m\u001b[0m\u001b[0m\n\u001b[0;32m----> 7\u001b[0;31m \u001b[0mt\u001b[0m\u001b[0;34m[\u001b[0m\u001b[0;36m2\u001b[0m\u001b[0;34m]\u001b[0m \u001b[0;34m=\u001b[0m \u001b[0;36m4\u001b[0m \u001b[0;31m# renvoie une erreur parce que tuple est immutable\u001b[0m\u001b[0;34m\u001b[0m\u001b[0m\n\u001b[0m",
      "\u001b[0;31mTypeError\u001b[0m: 'tuple' object does not support item assignment"
     ]
    }
   ],
   "source": [
    "t = (1,2,3)\n",
    "print(t)\n",
    "t1 = (1, \"One\", 2, \"Two\")\n",
    "print(t1)\n",
    "# pour avoir la taille d'un tuple, on peut utiliser aussi len\n",
    "print(len(t1))\n",
    "t[2] = 4 # renvoie une erreur parce que tuple est immutable"
   ]
  },
  {
   "cell_type": "markdown",
   "metadata": {
    "collapsed": true
   },
   "source": [
    "#### Les dictionnary\n",
    "Les dictionnary/dictionnaires est une structure de donnee associative. Ils associent une clé et une valeur. Les clés doivent être obligatoirement uniques"
   ]
  },
  {
   "cell_type": "code",
   "execution_count": 5,
   "metadata": {},
   "outputs": [
    {
     "name": "stdout",
     "output_type": "stream",
     "text": [
      "{1: 1, 2: 'two', 'one': 1}\n",
      "3\n"
     ]
    }
   ],
   "source": [
    "d = {}\n",
    "d['one'] = 1\n",
    "d[1] = 1\n",
    "d[2] = 'two'\n",
    "print(d)\n",
    "# pour avoir la taille d'un dictionnaire, on peut utiliser aussi len\n",
    "print(len(d))"
   ]
  },
  {
   "cell_type": "markdown",
   "metadata": {},
   "source": [
    "### Les conditions if/else en Python\n",
    "\n",
    "Comme tous les languages de programmation, Python possede des conditions sous forme de if/elif/else"
   ]
  },
  {
   "cell_type": "code",
   "execution_count": 6,
   "metadata": {},
   "outputs": [
    {
     "name": "stdout",
     "output_type": "stream",
     "text": [
      "IF\n"
     ]
    }
   ],
   "source": [
    "a = 1\n",
    "b = a + 1\n",
    "c = 1\n",
    "d = 2\n",
    "if b % 2 == 0 and a == 1:\n",
    "    print(\"IF\")\n",
    "elif c == 1 or d == 2:\n",
    "    print(\"ELIF\")\n",
    "else:\n",
    "    print(\"ELSE\")\n"
   ]
  },
  {
   "cell_type": "markdown",
   "metadata": {},
   "source": [
    "### Les loops/boucle en Python\n",
    "\n",
    "Python possede 2 types de boucle While et For.\n",
    "#### While loop\n",
    "La boucle while est une boucle permettant de continuer une operation tant que la condition de la boucle est toujour remplie"
   ]
  },
  {
   "cell_type": "code",
   "execution_count": 7,
   "metadata": {},
   "outputs": [
    {
     "name": "stdout",
     "output_type": "stream",
     "text": [
      "10\n",
      "9\n",
      "8\n",
      "7\n",
      "6\n",
      "5\n",
      "4\n",
      "3\n",
      "2\n",
      "1\n"
     ]
    }
   ],
   "source": [
    "n = 10\n",
    "while n > 0:\n",
    "    print (n)\n",
    "    n -= 1"
   ]
  },
  {
   "cell_type": "markdown",
   "metadata": {},
   "source": [
    "#### For loop\n",
    "La boucle for est très similaire a la boucle while. En python, la boucle while est beaucoup plus souvent utilisé parce qu'on peut iterer directement sur les contenues des structures"
   ]
  },
  {
   "cell_type": "code",
   "execution_count": 8,
   "metadata": {},
   "outputs": [
    {
     "name": "stdout",
     "output_type": "stream",
     "text": [
      "7\n",
      "6\n",
      "5\n",
      "4\n",
      "3\n",
      "2\n",
      "1\n"
     ]
    }
   ],
   "source": [
    "l = [7,6,5,4,3,2,1]\n",
    "\n",
    "#For each loop sur une liste\n",
    "for element in l:\n",
    "    print(element)\n",
    "    "
   ]
  },
  {
   "cell_type": "code",
   "execution_count": 9,
   "metadata": {},
   "outputs": [
    {
     "name": "stdout",
     "output_type": "stream",
     "text": [
      "7\n",
      "6\n",
      "5\n",
      "4\n",
      "3\n",
      "2\n",
      "1\n"
     ]
    }
   ],
   "source": [
    "#For loop avec index\n",
    "for index in range(0,len(l)):\n",
    "    print(l[index])"
   ]
  },
  {
   "cell_type": "code",
   "execution_count": 10,
   "metadata": {},
   "outputs": [
    {
     "name": "stdout",
     "output_type": "stream",
     "text": [
      "(0, 7)\n",
      "(1, 6)\n",
      "(2, 5)\n",
      "(3, 4)\n",
      "(4, 3)\n",
      "(5, 2)\n",
      "(6, 1)\n"
     ]
    }
   ],
   "source": [
    "#For loop avec index et element\n",
    "for index,element in enumerate(l):\n",
    "    print(index,element)"
   ]
  },
  {
   "cell_type": "markdown",
   "metadata": {},
   "source": [
    "### Fonctions\n",
    "Une fonction peut etre creer de maniere tres simple en Python"
   ]
  },
  {
   "cell_type": "code",
   "execution_count": 11,
   "metadata": {},
   "outputs": [
    {
     "name": "stdout",
     "output_type": "stream",
     "text": [
      "3\n"
     ]
    }
   ],
   "source": [
    "def addAndPrint(x, y):\n",
    "    res = x + y\n",
    "    print(res)\n",
    "    return res\n",
    "\n",
    "a = addAndPrint(1,2)\n"
   ]
  },
  {
   "cell_type": "markdown",
   "metadata": {},
   "source": [
    "### Lecture et écriture de fichier\n",
    "\n",
    "La lecture et écriture en Python est très simple. \n",
    "\n",
    "Example:"
   ]
  },
  {
   "cell_type": "code",
   "execution_count": 12,
   "metadata": {},
   "outputs": [
    {
     "ename": "IOError",
     "evalue": "[Errno 2] No such file or directory: 'path/to/outputfile.xyz'",
     "output_type": "error",
     "traceback": [
      "\u001b[0;31m---------------------------------------------------------------------------\u001b[0m",
      "\u001b[0;31mIOError\u001b[0m                                   Traceback (most recent call last)",
      "\u001b[0;32m<ipython-input-12-a842f61a5351>\u001b[0m in \u001b[0;36m<module>\u001b[0;34m()\u001b[0m\n\u001b[1;32m      1\u001b[0m \u001b[0;31m#Ecriture de fichier\u001b[0m\u001b[0;34m\u001b[0m\u001b[0;34m\u001b[0m\u001b[0m\n\u001b[0;32m----> 2\u001b[0;31m \u001b[0mfid\u001b[0m \u001b[0;34m=\u001b[0m \u001b[0mopen\u001b[0m\u001b[0;34m(\u001b[0m\u001b[0;34m'path/to/outputfile.xyz'\u001b[0m\u001b[0;34m,\u001b[0m \u001b[0;34m'w'\u001b[0m\u001b[0;34m)\u001b[0m \u001b[0;31m# option w veut dire write\u001b[0m\u001b[0;34m\u001b[0m\u001b[0m\n\u001b[0m\u001b[1;32m      3\u001b[0m \u001b[0ml1\u001b[0m \u001b[0;34m=\u001b[0m \u001b[0;34m\"This is a normal line\"\u001b[0m\u001b[0;34m\u001b[0m\u001b[0m\n\u001b[1;32m      4\u001b[0m \u001b[0mfid\u001b[0m\u001b[0;34m.\u001b[0m\u001b[0mwrite\u001b[0m\u001b[0;34m(\u001b[0m\u001b[0ml1\u001b[0m\u001b[0;34m)\u001b[0m\u001b[0;34m\u001b[0m\u001b[0m\n\u001b[1;32m      5\u001b[0m \u001b[0ml2\u001b[0m \u001b[0;34m=\u001b[0m \u001b[0;34m\"Si tu veux une nouvelle ligne, il faut ajouter\\n\"\u001b[0m\u001b[0;34m\u001b[0m\u001b[0m\n",
      "\u001b[0;31mIOError\u001b[0m: [Errno 2] No such file or directory: 'path/to/outputfile.xyz'"
     ]
    }
   ],
   "source": [
    "#Ecriture de fichier\n",
    "fid = open('path/to/outputfile.xyz', 'w') # option w veut dire write\n",
    "l1 = \"This is a normal line\"\n",
    "fid.write(l1)\n",
    "l2 = \"Si tu veux une nouvelle ligne, il faut ajouter\\n\"\n",
    "fid.write(l2)\n",
    "fid.close() # Fermeture de fichier"
   ]
  },
  {
   "cell_type": "code",
   "execution_count": 13,
   "metadata": {},
   "outputs": [
    {
     "ename": "IOError",
     "evalue": "[Errno 2] No such file or directory: 'path/to/outputfile.xyz'",
     "output_type": "error",
     "traceback": [
      "\u001b[0;31m---------------------------------------------------------------------------\u001b[0m",
      "\u001b[0;31mIOError\u001b[0m                                   Traceback (most recent call last)",
      "\u001b[0;32m<ipython-input-13-d3556e825058>\u001b[0m in \u001b[0;36m<module>\u001b[0;34m()\u001b[0m\n\u001b[1;32m      1\u001b[0m \u001b[0;31m#lecture de ficher entier\u001b[0m\u001b[0;34m\u001b[0m\u001b[0;34m\u001b[0m\u001b[0m\n\u001b[0;32m----> 2\u001b[0;31m \u001b[0mfid\u001b[0m \u001b[0;34m=\u001b[0m \u001b[0mopen\u001b[0m\u001b[0;34m(\u001b[0m\u001b[0;34m'path/to/outputfile.xyz'\u001b[0m\u001b[0;34m,\u001b[0m \u001b[0;34m'r'\u001b[0m\u001b[0;34m)\u001b[0m \u001b[0;31m# option r veut dire read\u001b[0m\u001b[0;34m\u001b[0m\u001b[0m\n\u001b[0m\u001b[1;32m      3\u001b[0m \u001b[0mtxt\u001b[0m \u001b[0;34m=\u001b[0m \u001b[0mfid\u001b[0m\u001b[0;34m.\u001b[0m\u001b[0mread\u001b[0m\u001b[0;34m(\u001b[0m\u001b[0;34m)\u001b[0m \u001b[0;31m# Cette ligne permet de lire tout le fichier\u001b[0m\u001b[0;34m\u001b[0m\u001b[0m\n\u001b[1;32m      4\u001b[0m \u001b[0;32mprint\u001b[0m\u001b[0;34m(\u001b[0m\u001b[0mtxt\u001b[0m\u001b[0;34m)\u001b[0m\u001b[0;34m\u001b[0m\u001b[0m\n\u001b[1;32m      5\u001b[0m \u001b[0mfid\u001b[0m\u001b[0;34m.\u001b[0m\u001b[0mclose\u001b[0m\u001b[0;34m(\u001b[0m\u001b[0;34m)\u001b[0m \u001b[0;31m# Fermeture de fichier\u001b[0m\u001b[0;34m\u001b[0m\u001b[0m\n",
      "\u001b[0;31mIOError\u001b[0m: [Errno 2] No such file or directory: 'path/to/outputfile.xyz'"
     ]
    }
   ],
   "source": [
    "#lecture de ficher entier\n",
    "fid = open('path/to/outputfile.xyz', 'r') # option r veut dire read\n",
    "txt = fid.read() # Cette ligne permet de lire tout le fichier \n",
    "print(txt)\n",
    "fid.close() # Fermeture de fichier"
   ]
  },
  {
   "cell_type": "code",
   "execution_count": 14,
   "metadata": {},
   "outputs": [
    {
     "ename": "IOError",
     "evalue": "[Errno 2] No such file or directory: 'path/to/file.xyz'",
     "output_type": "error",
     "traceback": [
      "\u001b[0;31m---------------------------------------------------------------------------\u001b[0m",
      "\u001b[0;31mIOError\u001b[0m                                   Traceback (most recent call last)",
      "\u001b[0;32m<ipython-input-14-118f30801111>\u001b[0m in \u001b[0;36m<module>\u001b[0;34m()\u001b[0m\n\u001b[1;32m      1\u001b[0m \u001b[0;31m#lecture de ficher ligne par ligne\u001b[0m\u001b[0;34m\u001b[0m\u001b[0;34m\u001b[0m\u001b[0m\n\u001b[0;32m----> 2\u001b[0;31m \u001b[0mfid\u001b[0m \u001b[0;34m=\u001b[0m \u001b[0mopen\u001b[0m\u001b[0;34m(\u001b[0m\u001b[0;34m'path/to/file.xyz'\u001b[0m\u001b[0;34m,\u001b[0m \u001b[0;34m'r'\u001b[0m\u001b[0;34m)\u001b[0m \u001b[0;31m# option r veut dire read\u001b[0m\u001b[0;34m\u001b[0m\u001b[0m\n\u001b[0m\u001b[1;32m      3\u001b[0m \u001b[0;32mfor\u001b[0m \u001b[0mline\u001b[0m \u001b[0;32min\u001b[0m \u001b[0mfid\u001b[0m\u001b[0;34m:\u001b[0m\u001b[0;34m\u001b[0m\u001b[0m\n\u001b[1;32m      4\u001b[0m     \u001b[0;32mprint\u001b[0m \u001b[0mline\u001b[0m\u001b[0;34m\u001b[0m\u001b[0m\n\u001b[1;32m      5\u001b[0m \u001b[0mfid\u001b[0m\u001b[0;34m.\u001b[0m\u001b[0mclose\u001b[0m\u001b[0;34m(\u001b[0m\u001b[0;34m)\u001b[0m \u001b[0;31m# Fermeture de fichier\u001b[0m\u001b[0;34m\u001b[0m\u001b[0m\n",
      "\u001b[0;31mIOError\u001b[0m: [Errno 2] No such file or directory: 'path/to/file.xyz'"
     ]
    }
   ],
   "source": [
    "#lecture de ficher ligne par ligne\n",
    "fid = open('path/to/file.xyz', 'r') # option r veut dire read\n",
    "for line in fid:\n",
    "    print line\n",
    "fid.close() # Fermeture de fichier"
   ]
  },
  {
   "cell_type": "markdown",
   "metadata": {},
   "source": [
    "### Les objets\n",
    "\n",
    "Python est un language d'objet, cela veut dire qu'on peut créer des object et leur donner des fonctionnalités. Étant donné que ce cours n'est pas un cours de programmation, on va vous donner une description rapide pour que vous puissiez savoir les utiliser.\n"
   ]
  },
  {
   "cell_type": "code",
   "execution_count": 15,
   "metadata": {
    "collapsed": true
   },
   "outputs": [],
   "source": [
    "class MyClass:\n",
    "    def __init__(self, something):\n",
    "        # __init__(self,...) est un constructor\n",
    "        # Un constructor permet de specifier comment on peut construire un objet\n",
    "        self.somethingElse = something\n",
    "        # self.somethingElse est un attriubte de notre objet\n",
    "        # self est une reference a notre objet\n",
    "    def myMethod(self):\n",
    "        # myMethod est une methode de notre object\n",
    "        # pour specifier une méthode dans un objet, il suffit de déclarer une fonction dans le scope de l'objet\n",
    "        # il faut également que \"self\" soit le premier parametre de notre méthode\n",
    "        print self.somethingElse"
   ]
  },
  {
   "cell_type": "markdown",
   "metadata": {},
   "source": [
    "### Import des packages en Python\n",
    "\n",
    "Par défault, Python ne possède pas tous les fonctionnalités, en important des packages, on donne a Python plus de fonctionnalité qu'il possède.\n",
    "\n",
    "Example:\n"
   ]
  },
  {
   "cell_type": "code",
   "execution_count": 16,
   "metadata": {
    "collapsed": true
   },
   "outputs": [],
   "source": [
    "import numpy #import numpy the mathematical package\n",
    "\n",
    "# Pour utiliser numpy il faut ajouter le prefix numpy devant les fonctions\n",
    "a = numpy.ones(4)\n",
    "\n",
    "# Cette écriture est longue, on peut donner un alias a un package pour gagner en temps\n",
    "import numpy as np\n",
    "\n",
    "# Meme chose qu'en haut except on utilise notre alias np\n",
    "a = np.ones(4)\n"
   ]
  },
  {
   "cell_type": "markdown",
   "metadata": {},
   "source": [
    "On peut également importe qu'une partie d'un package\n",
    "Example:"
   ]
  },
  {
   "cell_type": "code",
   "execution_count": 17,
   "metadata": {
    "collapsed": true
   },
   "outputs": [],
   "source": [
    "from numpy import ones\n",
    "a = ones(4) # Remarque: On n'a plus besoin d'utiliser le prefix ici\n",
    "\n",
    "# Bien sur, on peut importer plusieurs fonction en meme temps\n",
    "\n",
    "from numpy import zeros, array"
   ]
  },
  {
   "cell_type": "markdown",
   "metadata": {},
   "source": [
    "À eviter:"
   ]
  },
  {
   "cell_type": "code",
   "execution_count": 18,
   "metadata": {
    "collapsed": true
   },
   "outputs": [],
   "source": [
    "from numpy import * # Ici, on importe tous les fonctions de numpy et on pourra les utiliser sans prefix.\n",
    "                    # !!!!!, Cette écriture est à éviter absolutment parce qu'il réduit la visibilité du code \n",
    "                    # et peut entrainer des erreurs.\n",
    "                    # IMPORTANT: Ne pas utiliser cette écriture dans vos rendus, vous serez PENALISES.\n"
   ]
  },
  {
   "cell_type": "markdown",
   "metadata": {},
   "source": [
    "## Numpy\n",
    "\n",
    "Numpy est un package mathématique permettant à Python de faire des manipulation matricielle, des operations mathématiques, etc...\n",
    "\n",
    "### Basiques matrices creation"
   ]
  },
  {
   "cell_type": "code",
   "execution_count": 19,
   "metadata": {},
   "outputs": [
    {
     "name": "stdout",
     "output_type": "stream",
     "text": [
      "[ 1.  1.  1.  1.]\n",
      "[[ 0.  0.]\n",
      " [ 0.  0.]]\n",
      "[[ 1.  4.  4.]\n",
      " [ 5.  6.  7.]]\n",
      "(2, 3)\n"
     ]
    }
   ],
   "source": [
    "import numpy as np #import numpy\n",
    "\n",
    "print(np.ones(4)) # Vector de 4 elements de 1\n",
    "print(np.zeros((2,2))) #Matrix 2x2 avec que des zeros\n",
    "a = np.array([[1.,4.,4],\n",
    "                [5.,6.,7]])\n",
    "print(a)\n",
    "# pour avoir le nombre de lignes et de colonnes de la matrice a\n",
    "# on utilise shape\n",
    "print(a.shape) #2 lines et 3 colonnes"
   ]
  },
  {
   "cell_type": "markdown",
   "metadata": {},
   "source": [
    "### Les operations\n",
    "Les operations de bases de numpy sont élément par élément"
   ]
  },
  {
   "cell_type": "code",
   "execution_count": 20,
   "metadata": {},
   "outputs": [
    {
     "name": "stdout",
     "output_type": "stream",
     "text": [
      "[ 1.  1.  1.  1.]\n",
      "[ 8.  8.  8.  8.]\n",
      "[ 3.  3.  3.  3.]\n"
     ]
    }
   ],
   "source": [
    "A = np.ones(4)\n",
    "print(A)\n",
    "B = A * 8\n",
    "print(B)\n",
    "C = np.log2(B)\n",
    "print(C)"
   ]
  },
  {
   "cell_type": "markdown",
   "metadata": {},
   "source": [
    "Il existe également des opérations entre matrices."
   ]
  },
  {
   "cell_type": "code",
   "execution_count": 21,
   "metadata": {
    "scrolled": true
   },
   "outputs": [
    {
     "name": "stdout",
     "output_type": "stream",
     "text": [
      "('A:\\n', array([[1, 1],\n",
      "       [2, 2]]))\n",
      "('A transpose:\\n', array([[1, 2],\n",
      "       [1, 2]]))\n",
      "('B:\\n', array([[-1,  1],\n",
      "       [ 1,  1]]))\n",
      "('AB:\\n', array([[0, 2],\n",
      "       [0, 4]]))\n"
     ]
    }
   ],
   "source": [
    "A = np.array([[1,1],[2,2]])\n",
    "B = np.array([[-1,1],[1,1]])\n",
    "\n",
    "print(\"A:\\n\", A)\n",
    "print(\"A transpose:\\n\", A.T)\n",
    "print(\"B:\\n\", B)\n",
    "print(\"AB:\\n\", A.dot(B))"
   ]
  },
  {
   "cell_type": "markdown",
   "metadata": {},
   "source": [
    "### Indexing\n",
    "Un tableau/vecteur/matrice/tenseur de Numpy peut être indexé de plusieurs façon. Note: l'indexage en Numpy commence par le zéro\n",
    "   \n",
    "\n",
    "\n",
    "\n"
   ]
  },
  {
   "cell_type": "code",
   "execution_count": 22,
   "metadata": {},
   "outputs": [
    {
     "name": "stdout",
     "output_type": "stream",
     "text": [
      "[[1 2 3]\n",
      " [4 5 6]]\n"
     ]
    }
   ],
   "source": [
    "A = np.array([[1,2,3],\n",
    "              [4,5,6]])\n",
    "print(A)"
   ]
  },
  {
   "cell_type": "markdown",
   "metadata": {},
   "source": [
    "A has 2 rows and 3 columns."
   ]
  },
  {
   "cell_type": "code",
   "execution_count": 23,
   "metadata": {},
   "outputs": [
    {
     "name": "stdout",
     "output_type": "stream",
     "text": [
      "2\n",
      "6\n"
     ]
    },
    {
     "ename": "IndexError",
     "evalue": "index 2 is out of bounds for axis 0 with size 2",
     "output_type": "error",
     "traceback": [
      "\u001b[0;31m---------------------------------------------------------------------------\u001b[0m",
      "\u001b[0;31mIndexError\u001b[0m                                Traceback (most recent call last)",
      "\u001b[0;32m<ipython-input-23-d998f179dfa3>\u001b[0m in \u001b[0;36m<module>\u001b[0;34m()\u001b[0m\n\u001b[1;32m      1\u001b[0m \u001b[0;32mprint\u001b[0m\u001b[0;34m(\u001b[0m\u001b[0mA\u001b[0m\u001b[0;34m[\u001b[0m\u001b[0;36m0\u001b[0m\u001b[0;34m,\u001b[0m\u001b[0;36m1\u001b[0m\u001b[0;34m]\u001b[0m\u001b[0;34m)\u001b[0m \u001b[0;31m# retourne \"2\": l'élément de la ligne 0, colonne 1\u001b[0m\u001b[0;34m\u001b[0m\u001b[0m\n\u001b[1;32m      2\u001b[0m \u001b[0;32mprint\u001b[0m\u001b[0;34m(\u001b[0m\u001b[0mA\u001b[0m\u001b[0;34m[\u001b[0m\u001b[0;36m1\u001b[0m\u001b[0;34m,\u001b[0m\u001b[0;36m2\u001b[0m\u001b[0;34m]\u001b[0m\u001b[0;34m)\u001b[0m \u001b[0;31m# retourne \"6\": l'élément de la ligne 1, colonne 2\u001b[0m\u001b[0;34m\u001b[0m\u001b[0m\n\u001b[0;32m----> 3\u001b[0;31m \u001b[0mA\u001b[0m \u001b[0;34m[\u001b[0m\u001b[0;36m2\u001b[0m\u001b[0;34m,\u001b[0m\u001b[0;36m0\u001b[0m\u001b[0;34m]\u001b[0m \u001b[0;31m# Error: Cette matrice a que 2 lines\u001b[0m\u001b[0;34m\u001b[0m\u001b[0m\n\u001b[0m",
      "\u001b[0;31mIndexError\u001b[0m: index 2 is out of bounds for axis 0 with size 2"
     ]
    }
   ],
   "source": [
    "print(A[0,1]) # retourne \"2\": l'élément de la ligne 0, colonne 1\n",
    "print(A[1,2]) # retourne \"6\": l'élément de la ligne 1, colonne 2\n",
    "A [2,0] # Error: Cette matrice a que 2 lines"
   ]
  },
  {
   "cell_type": "markdown",
   "metadata": {},
   "source": [
    "En Python, on peut utiliser le symbol \":\" pour indexer. Utilisé seul, le symbol veut dire soit \"tous les lignes ou tous les colonnes\""
   ]
  },
  {
   "cell_type": "code",
   "execution_count": 24,
   "metadata": {},
   "outputs": [
    {
     "name": "stdout",
     "output_type": "stream",
     "text": [
      "[1 4]\n",
      "[4 5 6]\n"
     ]
    }
   ],
   "source": [
    "print(A[:,0]) # returns [1, 4] - la colonne 0\n",
    "\n",
    "print(A[1,:]) # returns [4,5,6] - la ligne 1"
   ]
  },
  {
   "cell_type": "markdown",
   "metadata": {},
   "source": [
    "On peut également utiliser le symbol \":\" pour indexer partiellement une matrice"
   ]
  },
  {
   "cell_type": "code",
   "execution_count": 25,
   "metadata": {},
   "outputs": [
    {
     "name": "stdout",
     "output_type": "stream",
     "text": [
      "[2 3]\n",
      "[1 2]\n"
     ]
    }
   ],
   "source": [
    "print(A[0,1:]) # retourne [2,3]: l'élément de la ligne 0, colonne 1 à la fin\n",
    "\n",
    "print(A[0,: 2]) # retourne [1,2]: l'élément de la ligne 0, colonne 0 jusqu'à 2 (= retourn colonne 0 et 1)"
   ]
  },
  {
   "cell_type": "markdown",
   "metadata": {},
   "source": [
    "#### Python list à Numpy array\n",
    "\n",
    "Il est très facile de convertir de Python list a numpy array"
   ]
  },
  {
   "cell_type": "code",
   "execution_count": 26,
   "metadata": {},
   "outputs": [
    {
     "name": "stdout",
     "output_type": "stream",
     "text": [
      "[[1, 2, 3], [4, 5, 6]]\n",
      "[[1 2 3]\n",
      " [4 5 6]]\n"
     ]
    }
   ],
   "source": [
    "l = [[1,2,3], [4,5,6]]\n",
    "print(l)\n",
    "na = np.array(l)\n",
    "print(na)"
   ]
  },
  {
   "cell_type": "markdown",
   "metadata": {},
   "source": [
    "## Matplotlib\n",
    "Matplotlib est un package permettant d'afficher les figures."
   ]
  },
  {
   "cell_type": "code",
   "execution_count": 27,
   "metadata": {},
   "outputs": [
    {
     "data": {
      "image/png": "[encoded data removed]",
      "text/plain": [
       "<matplotlib.figure.Figure at 0x7fac043aab90>"
      ]
     },
     "metadata": {},
     "output_type": "display_data"
    }
   ],
   "source": [
    "%matplotlib inline   \n",
    "import matplotlib.pyplot as plt\n",
    "x = np.arange(0,2*np.pi,0.1) #On crée une liste x de 0 à 2 * PI avec un pas de 0.1\n",
    "#print x\n",
    "y = np.sin(x) #On applique la fonction sinus sur la liste x\n",
    "#print y\n",
    "\n",
    "plt.plot(x,y,'o')\n",
    "plt.xlabel('x axis')\n",
    "plt.ylabel('y axis')\n",
    "plt.title('Easy')\n",
    "plt.grid(True)\n",
    "plt.show()\n",
    "\n"
   ]
  },
  {
   "cell_type": "markdown",
   "metadata": {},
   "source": [
    "### Image Handling\n",
    "\n",
    "Il y a plusieurs façon de charger une image en Python. On peut utiliser cv2(opencv), matplotlib out scikit. Tous ces packages ont une chose en commun, les images chargés par n'importe quel de ces packages se trouveront sous le format matricielle"
   ]
  },
  {
   "cell_type": "code",
   "execution_count": 28,
   "metadata": {},
   "outputs": [
    {
     "ename": "IOError",
     "evalue": "[Errno 2] No such file or directory: 'path/to/image.jpg'",
     "output_type": "error",
     "traceback": [
      "\u001b[0;31m---------------------------------------------------------------------------\u001b[0m",
      "\u001b[0;31mIOError\u001b[0m                                   Traceback (most recent call last)",
      "\u001b[0;32m<ipython-input-28-27c3929c9967>\u001b[0m in \u001b[0;36m<module>\u001b[0;34m()\u001b[0m\n\u001b[1;32m      2\u001b[0m \u001b[0;32mfrom\u001b[0m \u001b[0mscipy\u001b[0m\u001b[0;34m.\u001b[0m\u001b[0mmisc\u001b[0m \u001b[0;32mimport\u001b[0m \u001b[0mimread\u001b[0m\u001b[0;34m,\u001b[0m \u001b[0mimshow\u001b[0m\u001b[0;34m\u001b[0m\u001b[0m\n\u001b[1;32m      3\u001b[0m \u001b[0;34m\u001b[0m\u001b[0m\n\u001b[0;32m----> 4\u001b[0;31m \u001b[0mimgMatrix1\u001b[0m \u001b[0;34m=\u001b[0m \u001b[0mimread\u001b[0m\u001b[0;34m(\u001b[0m\u001b[0;34m\"path/to/image.jpg\"\u001b[0m\u001b[0;34m)\u001b[0m \u001b[0;31m#imgMatrix1 est en RGB\u001b[0m\u001b[0;34m\u001b[0m\u001b[0m\n\u001b[0m\u001b[1;32m      5\u001b[0m \u001b[0mplt\u001b[0m\u001b[0;34m.\u001b[0m\u001b[0mimshow\u001b[0m\u001b[0;34m(\u001b[0m\u001b[0mimgMatrix1\u001b[0m\u001b[0;34m)\u001b[0m\u001b[0;34m\u001b[0m\u001b[0m\n",
      "\u001b[0;32m/usr/local/lib/python2.7/dist-packages/scipy/misc/pilutil.pyc\u001b[0m in \u001b[0;36mimread\u001b[0;34m(name, flatten, mode)\u001b[0m\n\u001b[1;32m    152\u001b[0m     \"\"\"\n\u001b[1;32m    153\u001b[0m \u001b[0;34m\u001b[0m\u001b[0m\n\u001b[0;32m--> 154\u001b[0;31m     \u001b[0mim\u001b[0m \u001b[0;34m=\u001b[0m \u001b[0mImage\u001b[0m\u001b[0;34m.\u001b[0m\u001b[0mopen\u001b[0m\u001b[0;34m(\u001b[0m\u001b[0mname\u001b[0m\u001b[0;34m)\u001b[0m\u001b[0;34m\u001b[0m\u001b[0m\n\u001b[0m\u001b[1;32m    155\u001b[0m     \u001b[0;32mreturn\u001b[0m \u001b[0mfromimage\u001b[0m\u001b[0;34m(\u001b[0m\u001b[0mim\u001b[0m\u001b[0;34m,\u001b[0m \u001b[0mflatten\u001b[0m\u001b[0;34m=\u001b[0m\u001b[0mflatten\u001b[0m\u001b[0;34m,\u001b[0m \u001b[0mmode\u001b[0m\u001b[0;34m=\u001b[0m\u001b[0mmode\u001b[0m\u001b[0;34m)\u001b[0m\u001b[0;34m\u001b[0m\u001b[0m\n\u001b[1;32m    156\u001b[0m \u001b[0;34m\u001b[0m\u001b[0m\n",
      "\u001b[0;32m/usr/local/lib/python2.7/dist-packages/PIL/Image.pyc\u001b[0m in \u001b[0;36mopen\u001b[0;34m(fp, mode)\u001b[0m\n\u001b[1;32m   2310\u001b[0m \u001b[0;34m\u001b[0m\u001b[0m\n\u001b[1;32m   2311\u001b[0m     \u001b[0;32mif\u001b[0m \u001b[0mfilename\u001b[0m\u001b[0;34m:\u001b[0m\u001b[0;34m\u001b[0m\u001b[0m\n\u001b[0;32m-> 2312\u001b[0;31m         \u001b[0mfp\u001b[0m \u001b[0;34m=\u001b[0m \u001b[0mbuiltins\u001b[0m\u001b[0;34m.\u001b[0m\u001b[0mopen\u001b[0m\u001b[0;34m(\u001b[0m\u001b[0mfilename\u001b[0m\u001b[0;34m,\u001b[0m \u001b[0;34m\"rb\"\u001b[0m\u001b[0;34m)\u001b[0m\u001b[0;34m\u001b[0m\u001b[0m\n\u001b[0m\u001b[1;32m   2313\u001b[0m \u001b[0;34m\u001b[0m\u001b[0m\n\u001b[1;32m   2314\u001b[0m     \u001b[0;32mtry\u001b[0m\u001b[0;34m:\u001b[0m\u001b[0;34m\u001b[0m\u001b[0m\n",
      "\u001b[0;31mIOError\u001b[0m: [Errno 2] No such file or directory: 'path/to/image.jpg'"
     ]
    }
   ],
   "source": [
    "# En utilisant scipy\n",
    "from scipy.misc import imread, imshow\n",
    "\n",
    "imgMatrix1 = imread(\"path/to/image.jpg\") #imgMatrix1 est en RGB\n",
    "plt.imshow(imgMatrix1)"
   ]
  },
  {
   "cell_type": "code",
   "execution_count": null,
   "metadata": {
    "collapsed": true
   },
   "outputs": [],
   "source": [
    "#En utilisant opencv\n",
    "import cv2\n",
    "\n",
    "imgMatrix2 = cv2.imread(\"path/to/image.jpg\") #imgMatrix2 est en BGR"
   ]
  },
  {
   "cell_type": "code",
   "execution_count": null,
   "metadata": {
    "collapsed": true
   },
   "outputs": [],
   "source": [
    "# Conversion de opencv à scipy\n",
    "from skimage import img_as_float\n",
    "image = img_as_float(imgMatrix2) #imgMatrix2 une image chargée avec opencv"
   ]
  },
  {
   "cell_type": "code",
   "execution_count": null,
   "metadata": {
    "collapsed": true
   },
   "outputs": [],
   "source": [
    "from skimage import img_as_ubyte\n",
    "cv_image = img_as_ubyte(imgMatrix1) #imgMatrix1 une image chargée avec skimage "
   ]
  },
  {
   "cell_type": "markdown",
   "metadata": {},
   "source": [
    "### Aide\n",
    "\n",
    "Pour connaitre les informations vous pouvez utiliser la commande \"?\" pour l'aide en ligne.\n",
    "Vous pouvez également utiliser la fonciton \"help\" pour avoir des information sur un object de Python"
   ]
  },
  {
   "cell_type": "code",
   "execution_count": null,
   "metadata": {
    "collapsed": true
   },
   "outputs": [],
   "source": [
    "help(list)"
   ]
  },
  {
   "cell_type": "markdown",
   "metadata": {},
   "source": [
    "### Quelques bibliothèques utiles\n",
    "\n",
    "Il y a beaucoup de bibliothèque en Python, pour ce cours, on vous conseille d'aller lire les informations/tutoriels sur des packages suivant :\n",
    "1. scipy  - https://www.scipy.org/\n",
    "2. scikit - http://scikit-learn.org/\n",
    "3. et d'autres packages sur le machine learning comme theano etc..."
   ]
  },
  {
   "cell_type": "markdown",
   "metadata": {},
   "source": [
    "### Format de rendu\n",
    "Pour le rendu des labortoires, vous allez rendre les fichiers les rapports sous format de ipynb (ipython notebook).\n",
    "Pour chaque exercice, il est demandé de répondre aux question posé et ensuite le code(commenté !!) s'il y a lieu. "
   ]
  },
  {
   "cell_type": "markdown",
   "metadata": {},
   "source": [
    "## Exercices \n",
    "\n",
    "**Pour ce premier laboratoire, vous pouvez utiliser les packages random, numpy, math, csv et matplotlib, tous les autres packages sont interdits. Vous êtes encouragés à faire des recherches sur Google pour l'utilisation de ces packages. Par contre, le copie-coller du code sans compréhension est interdit.**\n",
    "\n",
    "\n",
    "### Exercice 1\n",
    "\n",
    "\n",
    "1. Implémenter la fonction f(x) = x\n",
    "2. Afficher la fonction f entre -6 et + 6 en utilisant matplotlib\n",
    "3. Implémenter la fonction sigmoid (https://en.wikipedia.org/wiki/Sigmoid_function)\n",
    "4. Afficher la fonction f entre -6 et + 6 en utilisant matplotlib\n"
   ]
  },
  {
   "cell_type": "markdown",
   "metadata": {
    "collapsed": true
   },
   "source": [
    "### Exercice 2\n",
    "1. Télécharger la base de données galaxies depuis Moodle\n",
    "\n",
    "2. En utilisant le fichier GTI770_label_data_set.csv, charger les 50 premières données de chaque classes. Toutes les images seront chargées dans une matrice (X) et les labels dans une matrice(Y). X doit avoir la forme (nombre d'image, nombre de canaux(RGB), hauteur, largeur) et Y (nombre d'image, la classe)\n",
    "\n",
    "3. Afficher de manière aléatoire, 10 images de chaque classes.\n",
    "\n",
    "4. Séparer les données de la matrice X en 2 matrices avec un ratio de 70% (X_train) et 30% (X_test), ces 2 matrices doivent avoir le même nombre de classes. Faire la même chose pour (Y). Vérifiez que les données ont toujours les mêmes classes.\n",
    " \n",
    "5. Cropper toutes  les images en utilisant le centre de l'image, la nouvelle dimension doit faire 50x50, vous pouvez utiliser que numpy pour cet exercice. Mettez tous ces images croppées dans une matrice(X_train_crop)\n",
    "\n",
    "6. Afficher une image de chaque catégorie avec le crop.\n",
    "\n",
    "7. En utilisant seulement numpy, convertir les images en binaires et mettez les dans une matrice (X_train_binary).\n",
    "\n",
    "8. Pour chaque image, compter le nombre de pixel noir et pixel blanc, mettre tous les résultats dans une matrice (X_train_plot) avec la forme (nombre d'images, 2). Commentez la fonction de la matrice (X_train_plot)\n",
    "\n",
    "9. Afficher tous les points contenu dans (X_train_plot) sur un graphique en utlisant matplotlib"
   ]
  },
  {
   "cell_type": "code",
   "execution_count": null,
   "metadata": {
    "collapsed": true
   },
   "outputs": [],
   "source": []
  }
 ],
 "metadata": {
  "kernelspec": {
   "display_name": "Python 3",
   "language": "python",
   "name": "python3"
  },
  "language_info": {
   "codemirror_mode": {
    "name": "ipython",
    "version": 3
   },
   "file_extension": ".py",
   "mimetype": "text/x-python",
   "name": "python",
   "nbconvert_exporter": "python",
   "pygments_lexer": "ipython3",
   "version": "3.7.3"
  }
 },
 "nbformat": 4,
 "nbformat_minor": 2
}
