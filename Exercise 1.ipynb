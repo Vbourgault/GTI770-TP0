{
 "cells": [
  {
   "cell_type": "markdown",
   "metadata": {},
   "source": [
    "## Exercise 1"
   ]
  },
  {
   "cell_type": "markdown",
   "metadata": {},
   "source": [
    "Question\n",
    "1.Implémenter la fonction f(x) = x\n",
    "2,Afficher la fonction f entre -6 et + 6 en utilisant matplotlib\n",
    "3,Implémenter la fonction sigmoid (https://en.wikipedia.org/wiki/Sigmoid_function)\n",
    "4.Afficher la fonction f entre -6 et + 6 en utilisant matplotlib\n"
   ]
  },
  {
   "cell_type": "code",
   "execution_count": 1,
   "metadata": {},
   "outputs": [
    {
     "name": "stdout",
     "output_type": "stream",
     "text": [
      "3\n"
     ]
    }
   ],
   "source": [
    "#1.Implémenter la fonction f(x) = x\n",
    "def f(x):\n",
    "    return x\n",
    "\n",
    "#print (f(3))\n"
   ]
  },
  {
   "cell_type": "code",
   "execution_count": 22,
   "metadata": {},
   "outputs": [
    {
     "data": {
      "image/png": "[encoded data removed]",
      "text/plain": [
       "<Figure size 432x288 with 1 Axes>"
      ]
     },
     "metadata": {
      "needs_background": "light"
     },
     "output_type": "display_data"
    }
   ],
   "source": [
    "#2,Afficher la fonction f entre -6 et + 6 en utilisant matplotlib\n",
    "\n",
    "%matplotlib inline\n",
    "import numpy as np\n",
    "import matplotlib.pyplot as plt\n",
    "\n",
    "x = np.arange(-6,6,0.5)\n",
    "#print(x)\n",
    "plt.plot(x,f(x),'o')\n",
    "plt.xlabel('x axis')\n",
    "plt.ylabel('y axis')\n",
    "plt.title('number 2')\n",
    "plt.grid(True)\n",
    "plt.show()"
   ]
  },
  {
   "cell_type": "code",
   "execution_count": 23,
   "metadata": {},
   "outputs": [
    {
     "name": "stdout",
     "output_type": "stream",
     "text": [
      "0.5\n"
     ]
    }
   ],
   "source": [
    "#3,Implémenter la fonction sigmoid \n",
    "# 1 / 1 + e^x\n",
    "# np.exp = e\n",
    "\n",
    "import numpy as np\n",
    "def Sigmoid(x):\n",
    "    return 1 / ( 1 + np.exp(-x))\n",
    "\n",
    "print(Sigmoid(0))"
   ]
  },
  {
   "cell_type": "code",
   "execution_count": 24,
   "metadata": {},
   "outputs": [
    {
     "data": {
      "image/png": "[encoded data removed]",
      "text/plain": [
       "<Figure size 432x288 with 1 Axes>"
      ]
     },
     "metadata": {
      "needs_background": "light"
     },
     "output_type": "display_data"
    }
   ],
   "source": [
    "#4.Afficher la fonction f entre -6 et + 6 en utilisant matplotlib\n",
    "\n",
    "%matplotlib inline\n",
    "import numpy as np\n",
    "import matplotlib.pyplot as plt\n",
    "\n",
    "x = np.arange(-6,6,0.5)\n",
    "#print(x)\n",
    "plt.plot(x,Sigmoid(x),'o')\n",
    "plt.xlabel('x axis')\n",
    "plt.ylabel('y axis')\n",
    "plt.title('number 2')\n",
    "plt.grid(True)\n",
    "plt.show()\n"
   ]
  },
  {
   "cell_type": "markdown",
   "metadata": {},
   "source": [
    "## Exercise 2"
   ]
  },
  {
   "cell_type": "markdown",
   "metadata": {},
   "source": [
    "1. Télécharger la base de données galaxies depuis Moodle\n",
    "\n",
    "2. En utilisant le fichier GTI770_label_data_set.csv, charger les 50 premières données de chaque classes. Toutes les images seront chargées dans une matrice (X) et les labels dans une matrice(Y). X doit avoir la forme (nombre d'image, nombre de canaux(RGB), hauteur, largeur) et Y (nombre d'image, la classe)\n",
    "\n",
    "3. Afficher de manière aléatoire, 10 images de chaque classes.\n",
    "\n",
    "4. Séparer les données de la matrice X en 2 matrices avec un ratio de 70% (X_train) et 30% (X_test), ces 2 matrices doivent avoir le même nombre de classes. Faire la même chose pour (Y). Vérifiez que les données ont toujours les mêmes classes.\n",
    " \n",
    "5. Cropper toutes  les images en utilisant le centre de l'image, la nouvelle dimension doit faire 50x50, vous pouvez utiliser que numpy pour cet exercice. Mettez tous ces images croppées dans une matrice(X_train_crop)\n",
    "\n",
    "6. Afficher une image de chaque catégorie avec le crop.\n",
    "\n",
    "7. En utilisant seulement numpy, convertir les images en binaires et mettez les dans une matrice (X_train_binary).\n",
    "\n",
    "8. Pour chaque image, compter le nombre de pixel noir et pixel blanc, mettre tous les résultats dans une matrice (X_train_plot) avec la forme (nombre d'images, 2). Commentez la fonction de la matrice (X_train_plot)\n",
    "\n",
    "9. Afficher tous les points contenu dans (X_train_plot) sur un graphique en utlisant matplotlib"
   ]
  },
  {
   "cell_type": "markdown",
   "metadata": {},
   "source": [
    "#1. Télécharger la base de données galaxies depuis Moodle\n",
    "X"
   ]
  },
  {
   "cell_type": "code",
   "execution_count": null,
   "metadata": {},
   "outputs": [],
   "source": []
  },
  {
   "cell_type": "code",
   "execution_count": 20,
   "metadata": {
    "scrolled": true
   },
   "outputs": [
    {
     "name": "stdout",
     "output_type": "stream",
     "text": [
      "[['idnum' 'nbrgb' 'h' 'l']\n",
      " ['100322' '3' '424' '424']\n",
      " ['100380' '3' '424' '424']\n",
      " ['100458' '3' '424' '424']\n",
      " ['100479' '3' '424' '424']\n",
      " ['100520' '3' '424' '424']\n",
      " ['100672' '3' '424' '424']\n",
      " ['100673' '3' '424' '424']\n",
      " ['100724' '3' '424' '424']\n",
      " ['100727' '3' '424' '424']\n",
      " ['100765' '3' '424' '424']\n",
      " ['100801' '3' '424' '424']\n",
      " ['100813' '3' '424' '424']\n",
      " ['100821' '3' '424' '424']\n",
      " ['100859' '3' '424' '424']\n",
      " ['100867' '3' '424' '424']\n",
      " ['100951' '3' '424' '424']\n",
      " ['101074' '3' '424' '424']\n",
      " ['101092' '3' '424' '424']\n",
      " ['101140' '3' '424' '424']\n",
      " ['101181' '3' '424' '424']\n",
      " ['101244' '3' '424' '424']\n",
      " ['101290' '3' '424' '424']\n",
      " ['101291' '3' '424' '424']\n",
      " ['101298' '3' '424' '424']\n",
      " ['101307' '3' '424' '424']\n",
      " ['101623' '3' '424' '424']\n",
      " ['101627' '3' '424' '424']\n",
      " ['101718' '3' '424' '424']\n",
      " ['101756' '3' '424' '424']\n",
      " ['101858' '3' '424' '424']\n",
      " ['101943' '3' '424' '424']\n",
      " ['101991' '3' '424' '424']\n",
      " ['102000' '3' '424' '424']\n",
      " ['102040' '3' '424' '424']\n",
      " ['102182' '3' '424' '424']\n",
      " ['102243' '3' '424' '424']\n",
      " ['102260' '3' '424' '424']\n",
      " ['102402' '3' '424' '424']\n",
      " ['102407' '3' '424' '424']\n",
      " ['102422' '3' '424' '424']\n",
      " ['102433' '3' '424' '424']\n",
      " ['102474' '3' '424' '424']\n",
      " ['102513' '3' '424' '424']\n",
      " ['102602' '3' '424' '424']\n",
      " ['102735' '3' '424' '424']\n",
      " ['102765' '3' '424' '424']\n",
      " ['102804' '3' '424' '424']\n",
      " ['102928' '3' '424' '424']\n",
      " ['102933' '3' '424' '424']\n",
      " ['102964' '3' '424' '424']\n",
      " ['102977' '3' '424' '424']\n",
      " ['102990' '3' '424' '424']\n",
      " ['103040' '3' '424' '424']\n",
      " ['103075' '3' '424' '424']\n",
      " ['103260' '3' '424' '424']\n",
      " ['103348' '3' '424' '424']\n",
      " ['103354' '3' '424' '424']\n",
      " ['103533' '3' '424' '424']\n",
      " ['103707' '3' '424' '424']\n",
      " ['103718' '3' '424' '424']\n",
      " ['103750' '3' '424' '424']\n",
      " ['103818' '3' '424' '424']\n",
      " ['103819' '3' '424' '424']\n",
      " ['103902' '3' '424' '424']\n",
      " ['103950' '3' '424' '424']\n",
      " ['104040' '3' '424' '424']\n",
      " ['104096' '3' '424' '424']\n",
      " ['104143' '3' '424' '424']\n",
      " ['104159' '3' '424' '424']\n",
      " ['104173' '3' '424' '424']\n",
      " ['104196' '3' '424' '424']\n",
      " ['104234' '3' '424' '424']\n",
      " ['104268' '3' '424' '424']\n",
      " ['104389' '3' '424' '424']\n",
      " ['104420' '3' '424' '424']\n",
      " ['104422' '3' '424' '424']\n",
      " ['104536' '3' '424' '424']\n",
      " ['104610' '3' '424' '424']\n",
      " ['104611' '3' '424' '424']\n",
      " ['104612' '3' '424' '424']\n",
      " ['104703' '3' '424' '424']\n",
      " ['104934' '3' '424' '424']\n",
      " ['104962' '3' '424' '424']\n",
      " ['104988' '3' '424' '424']\n",
      " ['105009' '3' '424' '424']\n",
      " ['105020' '3' '424' '424']\n",
      " ['105069' '3' '424' '424']\n",
      " ['105088' '3' '424' '424']\n",
      " ['105165' '3' '424' '424']\n",
      " ['105218' '3' '424' '424']\n",
      " ['105365' '3' '424' '424']\n",
      " ['105447' '3' '424' '424']\n",
      " ['105459' '3' '424' '424']\n",
      " ['105507' '3' '424' '424']\n",
      " ['105755' '3' '424' '424']\n",
      " ['105797' '3' '424' '424']\n",
      " ['105870' '3' '424' '424']\n",
      " ['106028' '3' '424' '424']]\n"
     ]
    }
   ],
   "source": [
    "# En utilisant le fichier GTI770_label_data_set.csv,\n",
    "# charger les 50 premières données de chaque classes.\n",
    "# Toutes les images seront chargées dans une matrice (X) et\n",
    "# les labels dans une matrice(Y).\n",
    "# X doit avoir la forme (nombre d'image, nombre de canaux(RGB)\n",
    "# , hauteur, largeur) et Y (nombre d'image, la classe)\n",
    "\n",
    "import csv\n",
    "import numpy as np\n",
    "import cv2\n",
    "d = {}\n",
    "x = np.array([['idnum','nbrgb','h','l']])\n",
    "y = np.array([['idnum','class']])\n",
    "with open(\"/home/vbourgault/Desktop/gti770/lab00/csv/dataset.csv\",newline='') as f:\n",
    "    read = csv.reader(f,delimiter=',')\n",
    "    for row in read:\n",
    "        key = row[1]\n",
    "        val = row[0]\n",
    "        if key in d.keys():\n",
    "            if d.get(key) < 50:\n",
    "                d[key] = d.get(key)+1\n",
    "                y = np.append(y,[[val,key]], axis = 0)\n",
    "        else :\n",
    "            d[key] = 1\n",
    "    f.close()\n",
    "    \n",
    "for i in range(1,len(y)):\n",
    "    imgMatrix = cv2.imread(\"/home/vbourgault/Desktop/gti770/lab00/images_training/\" +y[i][0] +\".jpg\")\n",
    "    h,l,c = imgMatrix.shape\n",
    "    x = np.append(x,[[y[i][0],c,h,l]],axis = 0)\n",
    "    \n",
    "\n",
    "     \n"
   ]
  },
  {
   "cell_type": "code",
   "execution_count": null,
   "metadata": {},
   "outputs": [],
   "source": []
  }
 ],
 "metadata": {
  "kernelspec": {
   "display_name": "Python 3",
   "language": "python",
   "name": "python3"
  },
  "language_info": {
   "codemirror_mode": {
    "name": "ipython",
    "version": 3
   },
   "file_extension": ".py",
   "mimetype": "text/x-python",
   "name": "python",
   "nbconvert_exporter": "python",
   "pygments_lexer": "ipython3",
   "version": "3.6.9"
  }
 },
 "nbformat": 4,
 "nbformat_minor": 2
}
